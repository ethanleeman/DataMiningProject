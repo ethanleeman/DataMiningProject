{
 "cells": [
  {
   "cell_type": "code",
   "execution_count": 1,
   "metadata": {
    "collapsed": true
   },
   "outputs": [],
   "source": [
    "############################################################################################################\n",
    "################################## preprocess.py (by Ethan)#################################################\n",
    "############################################################################################################\n",
    "\n",
    "import pandas as pd\n",
    "import matplotlib.pyplot as plt\n",
    "import gensim\n",
    "\n",
    "##One of them has a null value? okay.\n",
    "def forcestring(x):\n",
    "    if type(x) is str:\n",
    "        return x\n",
    "    return \"\"\n",
    "\n",
    "## gensim removes stopwords, takes the stem of the rest, makes bag of words\n",
    "def preproc(df):\n",
    "    df['question1'] = df['question1'].apply(forcestring)\n",
    "    df['question2'] = df['question2'].apply(forcestring)\n",
    "    df['q1proc'] = df['question1'].apply(gensim.parsing.preprocessing.preprocess_string)\n",
    "    df['q2proc'] = df['question2'].apply(gensim.parsing.preprocessing.preprocess_string)"
   ]
  },
  {
   "cell_type": "code",
   "execution_count": 2,
   "metadata": {
    "collapsed": true
   },
   "outputs": [],
   "source": [
    "############################################################################################################\n",
    "################################ Random Forest Classifier     #################################################\n",
    "############################################################################################################\n",
    "\n",
    "from sklearn.ensemble import RandomForestClassifier \n",
    "from sklearn.metrics import zero_one_loss\n",
    "from sklearn.metrics import confusion_matrix\n",
    "import pandas as pd\n",
    "from sklearn import tree\n",
    "\n",
    "\n",
    "\n",
    "def RandomForestModel(dftrain, dftest, columnlist):\n",
    "    model= RandomForestClassifier()\n",
    "\n",
    "    X = dftrain[columnlist]\n",
    "    y = dftrain['is_duplicate']\n",
    "\n",
    "    model.fit(X, y)\n",
    "\n",
    "    return model.predict(dftest[columnlist])\n"
   ]
  },
  {
   "cell_type": "code",
   "execution_count": 3,
   "metadata": {
    "collapsed": true
   },
   "outputs": [],
   "source": [
    "############################################################################################################\n",
    "#################################  FeatureEngineering.py (by Ethan)  #######################################\n",
    "############################################################################################################\n",
    "\n",
    "## Making features\n",
    "import pandas as pd\n",
    "import gensim\n",
    "\n",
    "## This makes the Jaccard similarity between the 2 preprocessed bag-of-words\n",
    "## WARNING(!!!!!!): Luis works with (1-Jaccard) instead of (Jaccard) \n",
    "\n",
    "def Jac(x):\n",
    "    if (len(x['q1proc']) > 0 and len(x['q2proc']) > 0):\n",
    "        return 1-gensim.matutils.jaccard(x['q1proc'],x['q2proc']) \n",
    "    return 0\n",
    "\n",
    "def JacFeat(df):\n",
    "    df['jaccard'] = df.apply(Jac, axis=1)\n",
    "\n",
    "\n",
    "## Make more features, put them in here\n",
    "def makeFeatures(df):\n",
    "    JacFeat(df)"
   ]
  },
  {
   "cell_type": "code",
   "execution_count": 4,
   "metadata": {
    "collapsed": false
   },
   "outputs": [],
   "source": [
    "### Standard String comparison implementation\n",
    "def StrComparison(word1, word2):\n",
    "    if word1 == word2:\n",
    "        return 1\n",
    "    return 0"
   ]
  },
  {
   "cell_type": "code",
   "execution_count": 5,
   "metadata": {
    "collapsed": false
   },
   "outputs": [],
   "source": [
    "############################################################################################################\n",
    "#################################      FeatureCreation               #######################################\n",
    "############################################################################################################\n",
    "\n",
    "# We create 10 features as follows:\n",
    "# Lets say that the question 1 has a bag of words Q1, and the question 2 has a bag of words Q2.\n",
    "# At this point the bags are already sorted according to the histogram, for example\n",
    "#     Q1 = [\"step\", \"invest\", \"india\"]\n",
    "#     Q2 = [\"step\", \"invest\"]\n",
    "#    (\"india\" is more comon than \"invest\" which is more common than \"step\")\n",
    "# The following code just compares up to 5 elements of Q1 with each element of Q2 (and viceversa) \n",
    "#                                                                      using the jaccard distance\n",
    "\n",
    "from __future__ import division\n",
    "\n",
    "## Utility (there is a weird dependend of this function with the histogram, fix it !)\n",
    "def Repetitions(word):  # Finds how many times is our word repeated on all the questions.\n",
    "    for i in range(0, labels.size):\n",
    "        if word == labels[i]:\n",
    "            return values[i]   \n",
    "    return 1\n",
    "\n",
    "\n",
    "def FeatureCreation(dframe):\n",
    "    \n",
    "    dframe_size= dframe.shape[0]\n",
    "\n",
    "\n",
    "    # The following array contains the bags of keywords obtained from the preprocessing\n",
    "    KeyWords=dframe[['q1proc', 'q2proc']].as_matrix() \n",
    "\n",
    "\n",
    "    ## We arrange each bag of words in Keywords according to the histogram\n",
    "    for i in range(0, dframe_size):\n",
    "        KeyWords[i,0]= sorted(KeyWords[i,0], key=Repetitions)\n",
    "        KeyWords[i,1]= sorted(KeyWords[i,1], key=Repetitions)\n",
    "\n",
    "        \n",
    "    features = np.zeros((dframe_size, 10))\n",
    "\n",
    "    \n",
    "    for j in range(0, dframe_size):\n",
    "        Q1= KeyWords[j,0]\n",
    "        Q2= KeyWords[j,1]\n",
    "        for i in range(0, np.size(Q1)):\n",
    "            if i<5:\n",
    "                temp=[0]\n",
    "                for word in Q2:\n",
    "                    out = StrComparison(Q1[i],word)\n",
    "                    temp.append(out)\n",
    "                features[j,i] =  max(temp)/Repetitions(Q1[i])\n",
    "\n",
    "                \n",
    "        for i in range(0, np.size(Q2)):\n",
    "            if i<5:\n",
    "                temp=[0]\n",
    "                for word in Q1:\n",
    "                    temp.append(StrComparison(Q2[i],word))\n",
    "                features[j,i+5] = max(temp)/Repetitions(Q2[i])\n",
    "           \n",
    "        \n",
    "        \n",
    "    dframe = dframe.assign(feat0 = features[:,0])\n",
    "    dframe = dframe.assign(feat1 = features[:,1])\n",
    "    dframe = dframe.assign(feat2 = features[:,2])\n",
    "    dframe = dframe.assign(feat3 = features[:,3])\n",
    "    dframe = dframe.assign(feat4 = features[:,4])\n",
    "    dframe = dframe.assign(feat5 = features[:,5])\n",
    "    dframe = dframe.assign(feat6 = features[:,6])\n",
    "    dframe = dframe.assign(feat7 = features[:,7])\n",
    "    dframe = dframe.assign(feat8 = features[:,8])\n",
    "    dframe = dframe.assign(feat9 = features[:,9])  \n",
    "    \n",
    "    makeFeatures(dframe)\n",
    "    \n",
    "    return dframe"
   ]
  },
  {
   "cell_type": "code",
   "execution_count": 6,
   "metadata": {
    "collapsed": true
   },
   "outputs": [],
   "source": [
    "############################################################################################################\n",
    "#################################   Histogram Generation (by Luis)   #######################################\n",
    "############################################################################################################\n",
    "\n",
    "\n",
    "import csv\n",
    "from collections import Counter\n",
    "import numpy as np\n",
    "import matplotlib.pyplot as plt\n",
    "\n",
    "\n",
    "def Histogram(word_list):   ## input :  word_list  is a list of words\n",
    "                            ## returns: labels, values i.e. [\"best\", \"like\", ...], [195 times, 85 times, ...]\n",
    "    counts = Counter(word_list)\n",
    "    labels, values = zip(*counts.items())\n",
    "\n",
    "    # sort your values in descending order\n",
    "    indSort = np.argsort(values)[::-1]\n",
    "\n",
    "    # rearrange your data\n",
    "    labels = np.array(labels)[indSort]\n",
    "    values = np.array(values)[indSort]\n",
    "\n",
    "    indexes = np.arange(len(labels))\n",
    "\n",
    "\n",
    "    # Plot a histogram with all the words\n",
    "    fig = plt.figure(figsize=(15,10))\n",
    "    plt.axis([0, 2000, 0, max(values)])\n",
    "    plt.bar(indexes, values)\n",
    "    plt.show()\n",
    "\n",
    "\n",
    "\n",
    "    # Plot a histogram with the most common words\n",
    "    fig = plt.figure(figsize=(15,10))\n",
    "    plt.bar(indexes[:15], values[:15])\n",
    "    plt.axis([0, 15, 0, max(values)])\n",
    "    plt.xticks(indexes[:15], labels[:15])\n",
    "    plt.show()\n",
    "    \n",
    "    return labels, values\n"
   ]
  },
  {
   "cell_type": "code",
   "execution_count": 7,
   "metadata": {
    "collapsed": false
   },
   "outputs": [
    {
     "name": "stdout",
     "output_type": "stream",
     "text": [
      "Jaccard_Distance(orange, orange)= 1.0\n",
      "Jaccard_Distance(defz, abcz)= 0.857142857143\n",
      "Jaccard_Distance(orange, germany)= 0.375\n",
      "Jaccard_Distance(science, mathematics)= 0.555555555556\n",
      "Jaccard_Distance(science, physics)= 0.625\n",
      "Jaccard_Distance(orange, red)= 0.714285714286\n",
      "Jaccard_Distance(orange, run)= 0.714285714286\n",
      "Jaccard_Distance(orange, hope)= 0.75\n",
      "Jaccard_Distance(math, geometry)= 0.777777777778\n",
      "Jaccard_Distance(science, trump)= 1.0\n"
     ]
    }
   ],
   "source": [
    "###############  Examples of the Jaccard distance \n",
    "print \"Jaccard_Distance(orange, orange)=\" , gensim.matutils.jaccard([\"orang\"],[\"orange\"])\n",
    "print \"Jaccard_Distance(defz, abcz)=\" , gensim.matutils.jaccard(\"defz\",\"abcz\")\n",
    "print \"Jaccard_Distance(orange, germany)=\" , gensim.matutils.jaccard(\"orange\",\"germany\")\n",
    "print \"Jaccard_Distance(science, mathematics)=\" , gensim.matutils.jaccard(\"science\",\"mathematics\")\n",
    "print \"Jaccard_Distance(science, physics)=\" , gensim.matutils.jaccard(\"science\",\"physics\")\n",
    "print \"Jaccard_Distance(orange, red)=\" , gensim.matutils.jaccard(\"orange\",\"red\")\n",
    "print \"Jaccard_Distance(orange, run)=\" , gensim.matutils.jaccard(\"orange\",\"run\")\n",
    "print \"Jaccard_Distance(orange, hope)=\" , gensim.matutils.jaccard(\"orange\",\"hope\")\n",
    "print \"Jaccard_Distance(math, geometry)=\" , gensim.matutils.jaccard(\"math\",\"geometry\")\n",
    "print \"Jaccard_Distance(science, trump)=\" , gensim.matutils.jaccard(\"science\",\"trump\") \n"
   ]
  },
  {
   "cell_type": "code",
   "execution_count": 8,
   "metadata": {
    "collapsed": false
   },
   "outputs": [],
   "source": [
    "############################################################################################################\n",
    "############################################################################################################\n",
    "#######################                        MAIN                        #################################\n",
    "############################################################################################################\n",
    "############################################################################################################\n",
    "import pandas as pd\n",
    "import matplotlib.pyplot as plt\n",
    "import gensim\n",
    "import numpy as np\n",
    "from sklearn.model_selection import train_test_split"
   ]
  },
  {
   "cell_type": "code",
   "execution_count": 9,
   "metadata": {
    "collapsed": true
   },
   "outputs": [],
   "source": [
    "################ Loading Data ##############################################################################\n",
    "#dftrain = pd.DataFrame.from_csv('train_tiny.csv')\n",
    "#dftest = pd.DataFrame.from_csv('test_tiny.csv')\n",
    "\n",
    "dftrain = pd.DataFrame.from_csv('train.csv')\n",
    "#dftest = pd.DataFrame.from_csv('test.csv')\n",
    "\n",
    "dftrain, dfvalidation = train_test_split(dftrain, test_size = 0.2)"
   ]
  },
  {
   "cell_type": "code",
   "execution_count": 10,
   "metadata": {
    "collapsed": false
   },
   "outputs": [],
   "source": [
    "################ Data Preprocessing ######################################################################## \n",
    "#     Create two new features (q1proc, q2proc) containing the \"key words\" of each question ###### \n",
    "preproc(dftrain)\n",
    "preproc(dfvalidation)\n",
    "#preproc(dftest)"
   ]
  },
  {
   "cell_type": "code",
   "execution_count": null,
   "metadata": {
    "collapsed": false
   },
   "outputs": [
    {
     "data": {
      "image/png": "[encoded data removed]",
      "text/plain": [
       "<matplotlib.figure.Figure at 0x7f569c04bc10>"
      ]
     },
     "metadata": {},
     "output_type": "display_data"
    },
    {
     "data": {
      "image/png": "[encoded data removed]",
      "text/plain": [
       "<matplotlib.figure.Figure at 0x7f55f4232b90>"
      ]
     },
     "metadata": {},
     "output_type": "display_data"
    }
   ],
   "source": [
    "############### Generate Histograms  ####################################\n",
    "#     Generate histogram from the \"key words\" (from q1proc, q2proc)\n",
    "\n",
    "Q= np.append(dftrain['q1proc'].as_matrix(), dftrain['q2proc'].as_matrix())\n",
    "word_list=[]\n",
    "\n",
    "for v in Q:\n",
    "    for w in v:\n",
    "        word_list.append(w)\n",
    "        \n",
    "labels, values = Histogram(word_list)"
   ]
  },
  {
   "cell_type": "code",
   "execution_count": null,
   "metadata": {
    "collapsed": false
   },
   "outputs": [],
   "source": [
    "###############  Feature Creation  ##############################################################################\n",
    "dftrain= FeatureCreation(dftrain)\n",
    "dfvalidation= FeatureCreation(dfvalidation)\n",
    "#dftest = FeatureCreation(dftest)\n"
   ]
  },
  {
   "cell_type": "code",
   "execution_count": null,
   "metadata": {
    "collapsed": false
   },
   "outputs": [],
   "source": [
    "###############  Evaluating    Ethans Model  #####################################################################\n",
    "\n",
    "Y_Predicted = RandomForestModel(dftrain, dfvalidation, ['jaccard'])\n",
    "Y_True = dfvalidation['is_duplicate'].as_matrix()\n",
    "\n",
    "## Confussion Matrix and error for Ethans approach\n",
    "CM = confusion_matrix(Y_True, Y_Predicted)\n",
    "Error = (float)(CM[0,1]+CM[1,0])/(CM[0,0]+CM[0,1]+CM[1,0]+CM[1,1])\n",
    "\n",
    "print \"Confussion Matrix for initial Ethans approach (only one feature)\"\n",
    "print CM\n",
    "print \"Percentaje of wrong answers = \", Error"
   ]
  },
  {
   "cell_type": "code",
   "execution_count": null,
   "metadata": {
    "collapsed": false
   },
   "outputs": [],
   "source": [
    "###############  Evaluating Ethan + 10 feature       ############################################################\n",
    "\n",
    "features = ['jaccard', 'feat0', 'feat1', 'feat2', 'feat3', 'feat4', 'feat5', 'feat6', 'feat7', 'feat8', 'feat9']\n",
    "Y_Predicted = RandomForestModel(dftrain, dfvalidation, features)\n",
    "Y_True = dfvalidation['is_duplicate'].as_matrix()\n",
    "\n",
    "\n",
    "\n",
    "## Confussion Matrix and error for 11 features\n",
    "CM = confusion_matrix(Y_True, Y_Predicted)\n",
    "Error = (float)(CM[0,1]+CM[1,0])/(CM[0,0]+CM[0,1]+CM[1,0]+CM[1,1])\n",
    "\n",
    "print \"Confussion Matrix for eleven features (only one feature)\"\n",
    "print CM\n",
    "print \"Percentaje of wrong answers = \", Error\n"
   ]
  },
  {
   "cell_type": "code",
   "execution_count": null,
   "metadata": {
    "collapsed": false
   },
   "outputs": [],
   "source": []
  },
  {
   "cell_type": "code",
   "execution_count": null,
   "metadata": {
    "collapsed": false
   },
   "outputs": [],
   "source": []
  },
  {
   "cell_type": "code",
   "execution_count": null,
   "metadata": {
    "collapsed": false
   },
   "outputs": [],
   "source": []
  },
  {
   "cell_type": "code",
   "execution_count": null,
   "metadata": {
    "collapsed": false
   },
   "outputs": [],
   "source": []
  },
  {
   "cell_type": "code",
   "execution_count": null,
   "metadata": {
    "collapsed": false
   },
   "outputs": [],
   "source": []
  },
  {
   "cell_type": "code",
   "execution_count": null,
   "metadata": {
    "collapsed": false
   },
   "outputs": [],
   "source": []
  },
  {
   "cell_type": "code",
   "execution_count": null,
   "metadata": {
    "collapsed": false
   },
   "outputs": [],
   "source": []
  },
  {
   "cell_type": "code",
   "execution_count": null,
   "metadata": {
    "collapsed": true
   },
   "outputs": [],
   "source": [
    "## Save your stuff to reload it in Section B\n",
    "#dftrain.to_csv('preprocessed_train.csv', header = True)\n",
    "#dftest.to_csv('preprocessed_test.csv', header = True)\n",
    "\n",
    "## Save an answer for submission\n",
    "#dfAnswer = dftest['is_duplicate']\n",
    "#dfAnswer.to_csv('answer.csv', header = True)"
   ]
  },
  {
   "cell_type": "code",
   "execution_count": null,
   "metadata": {
    "collapsed": false
   },
   "outputs": [],
   "source": []
  },
  {
   "cell_type": "code",
   "execution_count": null,
   "metadata": {
    "collapsed": true
   },
   "outputs": [],
   "source": []
  },
  {
   "cell_type": "code",
   "execution_count": null,
   "metadata": {
    "collapsed": true
   },
   "outputs": [],
   "source": []
  }
 ],
 "metadata": {
  "kernelspec": {
   "display_name": "Python 2",
   "language": "python",
   "name": "python2"
  },
  "language_info": {
   "codemirror_mode": {
    "name": "ipython",
    "version": 2
   },
   "file_extension": ".py",
   "mimetype": "text/x-python",
   "name": "python",
   "nbconvert_exporter": "python",
   "pygments_lexer": "ipython2",
   "version": "2.7.13"
  }
 },
 "nbformat": 4,
 "nbformat_minor": 2
}
